{
  "nbformat": 4,
  "nbformat_minor": 0,
  "metadata": {
    "colab": {
      "provenance": [],
      "collapsed_sections": []
    },
    "kernelspec": {
      "name": "python3",
      "display_name": "Python 3"
    },
    "language_info": {
      "name": "python"
    }
  },
  "cells": [
    {
      "cell_type": "code",
      "execution_count": null,
      "metadata": {
        "id": "D4ALkTmiAOO-"
      },
      "outputs": [],
      "source": [
        "from google.colab import drive\n",
        "drive.mount('/content/drive')\n",
        "\n",
        "import numpy as np\n",
        "import matplotlib.pyplot as plt\n",
        "import cv2\n",
        "#from PIL import Image\n",
        "from google.colab.patches import cv2_imshow    # ez csak akkor kell, ha Colabban dolgozunk ?"
      ]
    },
    {
      "cell_type": "code",
      "source": [
        "!wget https://www.mydrive.ch/shares/38536/3830184030e49fe74747669442f0f282/download/420937545-1629951845/hazelnut.tar.xz\n",
        "!wget https://www.mydrive.ch/shares/38536/3830184030e49fe74747669442f0f282/download/420937484-1629951672/carpet.tar.xz\n",
        "!tar -xf hazelnut.tar.xz \n",
        "!tar -xf carpet.tar.xz"
      ],
      "metadata": {
        "id": "f7XOYEpwTlmX"
      },
      "execution_count": null,
      "outputs": []
    },
    {
      "cell_type": "code",
      "source": [
        "def test_image_visualization():\n",
        "\n",
        "  image_paths = ['/content/hazelnut/test/crack/000.png','/content/hazelnut/test/cut/006.png',\n",
        "                 '/content/hazelnut/test/hole/013.png','/content/carpet/test/metal_contamination/004.png',\n",
        "                 '/content/carpet/test/color/005.png', '/content/carpet/test/thread/008.png']\n",
        "  mask_paths = ['/content/hazelnut/ground_truth/crack/000_mask.png','/content/hazelnut/ground_truth/cut/006_mask.png',\n",
        "                '/content/hazelnut/ground_truth/hole/013_mask.png','/content/carpet/ground_truth/metal_contamination/004_mask.png',\n",
        "                '/content/carpet/ground_truth/color/005_mask.png', '/content/carpet/ground_truth/thread/008_mask.png']\n",
        "\n",
        "  for i in range(0,len(image_paths)):\n",
        "\n",
        "    msk = cv2.imread(str(mask_paths[i]))\n",
        "    img = cv2.imread(str(image_paths[i]))\n",
        "    img = cv2.cvtColor(img, cv2.COLOR_BGR2RGB)\n",
        "\n",
        "    n_msk = mask_color_magenta(msk)\n",
        "    plot_images(img, n_msk)"
      ],
      "metadata": {
        "id": "D9d-cIMDJMio"
      },
      "execution_count": null,
      "outputs": []
    },
    {
      "cell_type": "code",
      "source": [
        "def plot_images(img, n_msk):\n",
        "\n",
        "  plt.figure(figsize = (20,20))\n",
        "\n",
        "  plt.subplot(131)\n",
        "  plt.imshow(img)\n",
        "  plt.xticks([]), plt.yticks([])\n",
        "\n",
        "  plt.subplot(132)\n",
        "  plt.imshow(n_msk)\n",
        "  plt.xticks([]), plt.yticks([])\n",
        "\n",
        "  plt.subplot(133)\n",
        "  plt.imshow(img)\n",
        "  plt.imshow(n_msk, alpha = 0.3)\n",
        "  plt.xticks([]), plt.yticks([])\n",
        "  \n",
        "  plt.show()"
      ],
      "metadata": {
        "id": "n7W1nFRUMvw0"
      },
      "execution_count": null,
      "outputs": []
    },
    {
      "cell_type": "code",
      "source": [
        "def mask_color_magenta(img):\n",
        "  # Modifies the original mask image - makes background transparent + sets the \n",
        "  # color of the segmented parts to magenta\n",
        "\n",
        "  # separate R,G,B color channels and create a mask for the white pixels of the image\n",
        "  mask = (img[:,:,0] == 255) & (img[:,:,1] == 255) & (img[:,:,2] == 255)\n",
        "  # set the new color for white coloured pixels\n",
        "  img[:,:,:3][mask] = [255,0,255] \n",
        "  # convert image to grayscale and \"create a dimension for opacity\"\n",
        "  tmp = cv2.cvtColor(img, cv2.COLOR_BGR2GRAY)\n",
        "  _, alpha = cv2.threshold(tmp, 0, 255, cv2.THRESH_BINARY)\n",
        "  # split image by color channels and append 4th 'opacity' dimension\n",
        "  b, g, r = cv2.split(img)\n",
        "  rgba = [b, g, r, alpha]\n",
        "  n_img = cv2.merge(rgba, 4)\n",
        "\n",
        "  return n_img"
      ],
      "metadata": {
        "id": "Rxaap1nqQqxf"
      },
      "execution_count": null,
      "outputs": []
    },
    {
      "cell_type": "code",
      "source": [
        "test_image_visualization()"
      ],
      "metadata": {
        "id": "gJsKtyddUmeI"
      },
      "execution_count": null,
      "outputs": []
    },
    {
      "cell_type": "code",
      "source": [],
      "metadata": {
        "id": "XyrpjSDfVO2N"
      },
      "execution_count": null,
      "outputs": []
    }
  ]
}